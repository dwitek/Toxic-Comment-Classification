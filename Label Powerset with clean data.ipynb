{
 "cells": [
  {
   "cell_type": "code",
   "execution_count": 96,
   "metadata": {},
   "outputs": [],
   "source": [
    "import pandas as pd\n",
    "import matplotlib.pyplot as plt\n",
    "import numpy as np\n",
    "import seaborn as sn\n",
    "from sklearn.feature_extraction.text import TfidfVectorizer \n",
    "from IPython.display import display\n",
    "from imblearn.over_sampling import SMOTE, RandomOverSampler\n",
    "from sklearn.model_selection import train_test_split\n",
    "from sklearn.metrics import accuracy_score, f1_score, recall_score\n",
    "from sklearn.linear_model import LogisticRegression\n",
    "from skmultilearn.problem_transform import LabelPowerset\n",
    "import multiprocessing\n",
    "from sklearn.ensemble import RandomForestClassifier\n",
    "from sklearn.multiclass import OneVsOneClassifier\n",
    "from sklearn.svm import LinearSVC\n",
    "from sklearn.naive_bayes import MultinomialNB\n",
    "from collections import Counter\n",
    "%matplotlib inline"
   ]
  },
  {
   "cell_type": "code",
   "execution_count": 97,
   "metadata": {},
   "outputs": [],
   "source": [
    "test_data = pd.read_csv(\"test.csv\")\n",
    "test_labels = pd.read_csv(\"test_labels.csv\")\n",
    "train_data = pd.read_csv(\"train.csv\")\n",
    "test_merged = pd.merge(test_data, test_labels,on='id')\n",
    "\n",
    "test_merged = test_merged.drop(test_merged[test_merged.toxic == -1].index)"
   ]
  },
  {
   "cell_type": "code",
   "execution_count": 98,
   "metadata": {},
   "outputs": [],
   "source": [
    "cores = multiprocessing.cpu_count()\n",
    "\n",
    "y_train = train_data.iloc[:, 2:]\n",
    "X_train = train_data[['comment_text']]\n",
    "\n",
    "y_test = test_merged.iloc[:, 2:]\n",
    "X_test = test_merged[['comment_text']]\n",
    "\n",
    "lp = LabelPowerset()\n",
    "y_train = lp.transform(y_train)\n",
    "y_test = lp.transform(y_test)\n",
    "\n",
    "tvec = TfidfVectorizer(min_df=.0025, stop_words='english', strip_accents='unicode', analyzer='word', max_features=1000)\n",
    "X_train = tvec.fit_transform(X_train['comment_text'])\n",
    "X_test = tvec.transform(X_test['comment_text'])"
   ]
  },
  {
   "cell_type": "code",
   "execution_count": 99,
   "metadata": {},
   "outputs": [
    {
     "name": "stdout",
     "output_type": "stream",
     "text": [
      "Test data\n",
      "Accuracy score: 0.8869611428928694\n",
      "F1 score: 0.8725668263497255\n",
      "Recall score: 0.8869611428928694\n"
     ]
    }
   ],
   "source": [
    "lr = LogisticRegression(solver='saga', random_state = 27, n_jobs = cores).fit(X_train, y_train)\n",
    "lr_pred = lr.predict(X_test)\n",
    "\n",
    "print(\"Test data\")\n",
    "print(\"Accuracy score: \" + str(accuracy_score(y_test, lr_pred)))\n",
    "print(\"F1 score: \" + str(f1_score(y_test, lr_pred, average = 'weighted')))\n",
    "print(\"Recall score: \" + str(recall_score(y_test, lr_pred, average = 'weighted')))"
   ]
  },
  {
   "cell_type": "code",
   "execution_count": 100,
   "metadata": {},
   "outputs": [
    {
     "name": "stdout",
     "output_type": "stream",
     "text": [
      "Test data\n",
      "Accuracy score: 0.8838350683047298\n",
      "F1 score: 0.8705797126873954\n",
      "Recall score: 0.8838350683047298\n"
     ]
    },
    {
     "name": "stderr",
     "output_type": "stream",
     "text": [
      "/usr/local/lib/python3.6/dist-packages/sklearn/metrics/_classification.py:1272: UndefinedMetricWarning: Recall is ill-defined and being set to 0.0 in labels with no true samples. Use `zero_division` parameter to control this behavior.\n",
      "  _warn_prf(average, modifier, msg_start, len(result))\n"
     ]
    }
   ],
   "source": [
    "rfc = RandomForestClassifier(random_state = 27, n_jobs = cores).fit(X_train, y_train)\n",
    "rfc_pred = rfc.predict(X_test)\n",
    "\n",
    "print(\"Test data\")\n",
    "print(\"Accuracy score: \" + str(accuracy_score(y_test, rfc_pred)))\n",
    "print(\"F1 score: \" + str(f1_score(y_test, rfc_pred, average = 'weighted')))\n",
    "print(\"Recall score: \" + str(recall_score(y_test, rfc_pred, average = 'weighted')))"
   ]
  },
  {
   "cell_type": "code",
   "execution_count": 101,
   "metadata": {},
   "outputs": [
    {
     "name": "stdout",
     "output_type": "stream",
     "text": [
      "Test data\n",
      "Accuracy score: 0.8133420863421801\n",
      "F1 score: 0.8351263442135775\n",
      "Recall score: 0.8133420863421801\n"
     ]
    },
    {
     "name": "stderr",
     "output_type": "stream",
     "text": [
      "/usr/local/lib/python3.6/dist-packages/sklearn/metrics/_classification.py:1272: UndefinedMetricWarning: Recall is ill-defined and being set to 0.0 in labels with no true samples. Use `zero_division` parameter to control this behavior.\n",
      "  _warn_prf(average, modifier, msg_start, len(result))\n"
     ]
    }
   ],
   "source": [
    "rfc = RandomForestClassifier(class_weight = 'balanced', random_state = 27, n_jobs = cores).fit(X_train, y_train)\n",
    "rfc_pred = rfc.predict(X_test)\n",
    "\n",
    "print(\"Test data\")\n",
    "print(\"Accuracy score: \" + str(accuracy_score(y_test, rfc_pred)))\n",
    "print(\"F1 score: \" + str(f1_score(y_test, rfc_pred, average = 'weighted')))\n",
    "print(\"Recall score: \" + str(recall_score(y_test, rfc_pred, average = 'weighted')))"
   ]
  },
  {
   "cell_type": "code",
   "execution_count": 102,
   "metadata": {},
   "outputs": [
    {
     "name": "stdout",
     "output_type": "stream",
     "text": [
      "Test data\n",
      "Accuracy score: 0.8856794523117322\n",
      "F1 score: 0.8722232824910766\n",
      "Recall score: 0.8856794523117322\n"
     ]
    }
   ],
   "source": [
    "ovoc = OneVsOneClassifier(LinearSVC(random_state = 27), n_jobs = cores).fit(X_train, y_train)\n",
    "ovoc_pred = ovoc.predict(X_test)\n",
    "\n",
    "print(\"Test data\")\n",
    "print(\"Accuracy score: \" + str(accuracy_score(y_test, ovoc_pred)))\n",
    "print(\"F1 score: \" + str(f1_score(y_test, ovoc_pred, average = 'weighted')))\n",
    "print(\"Recall score: \" + str(recall_score(y_test, ovoc_pred, average = 'weighted')))"
   ]
  },
  {
   "cell_type": "code",
   "execution_count": 103,
   "metadata": {},
   "outputs": [
    {
     "name": "stdout",
     "output_type": "stream",
     "text": [
      "Test data\n",
      "Accuracy score: 0.903670011566476\n",
      "F1 score: 0.8714419768553344\n",
      "Recall score: 0.903670011566476\n"
     ]
    }
   ],
   "source": [
    "nbc = MultinomialNB().fit(X_train, y_train)\n",
    "nbc_pred = nbc.predict(X_test)\n",
    "\n",
    "print(\"Test data\")\n",
    "print(\"Accuracy score: \" + str(accuracy_score(y_test, nbc_pred)))\n",
    "print(\"F1 score: \" + str(f1_score(y_test, nbc_pred, average = 'weighted')))\n",
    "print(\"Recall score: \" + str(recall_score(y_test, nbc_pred, average = 'weighted')))"
   ]
  },
  {
   "cell_type": "code",
   "execution_count": 104,
   "metadata": {},
   "outputs": [],
   "source": [
    "counter = Counter(y_train)\n",
    "for elem in counter.most_common():\n",
    "    count = elem[1]\n",
    "    while count < 6:\n",
    "        count += 1\n",
    "        counter.update({elem[0], 1})\n",
    "\n",
    "ros = RandomOverSampler(sampling_strategy = counter, random_state = 27)\n",
    "X_tmp, y_tmp = ros.fit_sample(X_train, y_train)\n",
    "\n",
    "sm = SMOTE(random_state = 27, n_jobs = cores)\n",
    "X_train_resampled, y_train_resampled = sm.fit_sample(X_tmp, y_tmp)"
   ]
  },
  {
   "cell_type": "code",
   "execution_count": null,
   "metadata": {},
   "outputs": [],
   "source": [
    "lr = LogisticRegression(solver='saga', random_state = 27, n_jobs = cores).fit(X_train_resampled, y_train_resampled)\n",
    "lr_pred = lr.predict(X_test)\n",
    "\n",
    "print(\"Test data\")\n",
    "print(\"Accuracy score: \" + str(accuracy_score(y_test, lr_pred)))\n",
    "print(\"F1 score: \" + str(f1_score(y_test, lr_pred, average = 'weighted')))\n",
    "print(\"Recall score: \" + str(recall_score(y_test, lr_pred, average = 'weighted')))"
   ]
  },
  {
   "cell_type": "code",
   "execution_count": null,
   "metadata": {},
   "outputs": [],
   "source": [
    "rfc = RandomForestClassifier(random_state = 27, n_jobs = cores).fit(X_train_resampled, y_train_resampled)\n",
    "rfc_pred = rfc.predict(X_test)\n",
    "\n",
    "print(\"Test data\")\n",
    "print(\"Accuracy score: \" + str(accuracy_score(y_test, rfc_pred)))\n",
    "print(\"F1 score: \" + str(f1_score(y_test, rfc_pred, average = 'weighted')))\n",
    "print(\"Recall score: \" + str(recall_score(y_test, rfc_pred, average = 'weighted')))"
   ]
  },
  {
   "cell_type": "code",
   "execution_count": null,
   "metadata": {},
   "outputs": [],
   "source": [
    "rfc = RandomForestClassifier(class_weight = 'balanced', random_state = 27, n_jobs = cores).fit(X_train_resampled, y_train_resampled)\n",
    "rfc_pred = rfc.predict(X_test)\n",
    "\n",
    "print(\"Test data\")\n",
    "print(\"Accuracy score: \" + str(accuracy_score(y_test, rfc_pred)))\n",
    "print(\"F1 score: \" + str(f1_score(y_test, rfc_pred, average = 'weighted')))\n",
    "print(\"Recall score: \" + str(recall_score(y_test, rfc_pred, average = 'weighted')))"
   ]
  },
  {
   "cell_type": "code",
   "execution_count": null,
   "metadata": {},
   "outputs": [],
   "source": [
    "ovoc = OneVsOneClassifier(LinearSVC(random_state = 27), n_jobs = cores).fit(X_train_resampled, y_train_resampled)\n",
    "ovoc_pred = ovoc.predict(X_test)\n",
    "\n",
    "print(\"Test data from train csv\")\n",
    "print(\"Accuracy score: \" + str(accuracy_score(y_test, ovoc_pred)))\n",
    "print(\"F1 score: \" + str(f1_score(y_test, ovoc_pred, average = 'weighted')))\n",
    "print(\"Recall score: \" + str(recall_score(y_test, ovoc_pred, average = 'weighted')))"
   ]
  },
  {
   "cell_type": "code",
   "execution_count": null,
   "metadata": {},
   "outputs": [],
   "source": [
    "nbc = MultinomialNB().fit(X_train_resampled, y_train_resampled)\n",
    "nbc_pred = nbc.predict(X_test)\n",
    "\n",
    "print(\"Test data\")\n",
    "print(\"Accuracy score: \" + str(accuracy_score(y_test, nbc_pred)))\n",
    "print(\"F1 score: \" + str(f1_score(y_test, nbc_pred, average = 'weighted')))\n",
    "print(\"Recall score: \" + str(recall_score(y_test, nbc_pred, average = 'weighted')))"
   ]
  }
 ],
 "metadata": {
  "kernelspec": {
   "display_name": "Python 3",
   "language": "python",
   "name": "python3"
  },
  "language_info": {
   "codemirror_mode": {
    "name": "ipython",
    "version": 3
   },
   "file_extension": ".py",
   "mimetype": "text/x-python",
   "name": "python",
   "nbconvert_exporter": "python",
   "pygments_lexer": "ipython3",
   "version": "3.6.9"
  }
 },
 "nbformat": 4,
 "nbformat_minor": 4
}
