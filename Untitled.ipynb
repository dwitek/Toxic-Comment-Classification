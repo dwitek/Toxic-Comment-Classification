{
 "cells": [
  {
   "cell_type": "code",
   "execution_count": 1,
   "metadata": {},
   "outputs": [],
   "source": [
    "import pandas as pd\n",
    "import matplotlib.pyplot as plt\n",
    "import numpy as np\n",
    "import seaborn as sn\n",
    "from sklearn.feature_extraction.text import TfidfVectorizer \n",
    "from IPython.display import display\n",
    "from imblearn.over_sampling import SVMSMOTE\n",
    "from sklearn.model_selection import train_test_split\n",
    "from sklearn.metrics import accuracy_score, f1_score, recall_score, confusion_matrix\n",
    "from sklearn.linear_model import LogisticRegression\n",
    "from skmultilearn.problem_transform import LabelPowerset\n",
    "import multiprocessing\n",
    "from sklearn.ensemble import RandomForestClassifier\n",
    "from sklearn.multiclass import OneVsOneClassifier\n",
    "from sklearn.svm import LinearSVC\n",
    "from sklearn.naive_bayes import MultinomialNB\n",
    "%matplotlib inline"
   ]
  },
  {
   "cell_type": "code",
   "execution_count": 2,
   "metadata": {},
   "outputs": [],
   "source": [
    "test_data = pd.read_csv(\"test.csv\")\n",
    "test_labels = pd.read_csv(\"test_labels.csv\")\n",
    "train_data = pd.read_csv(\"train.csv\")\n",
    "test_merged = pd.merge(test_data, test_labels,on='id')\n",
    "\n",
    "test_merged = test_merged.drop(test_merged[test_merged.toxic == -1].index)"
   ]
  },
  {
   "cell_type": "code",
   "execution_count": 3,
   "metadata": {},
   "outputs": [
    {
     "data": {
      "text/html": [
       "<div>\n",
       "<style scoped>\n",
       "    .dataframe tbody tr th:only-of-type {\n",
       "        vertical-align: middle;\n",
       "    }\n",
       "\n",
       "    .dataframe tbody tr th {\n",
       "        vertical-align: top;\n",
       "    }\n",
       "\n",
       "    .dataframe thead th {\n",
       "        text-align: right;\n",
       "    }\n",
       "</style>\n",
       "<table border=\"1\" class=\"dataframe\">\n",
       "  <thead>\n",
       "    <tr style=\"text-align: right;\">\n",
       "      <th></th>\n",
       "      <th>id</th>\n",
       "      <th>comment_text</th>\n",
       "      <th>toxic</th>\n",
       "      <th>severe_toxic</th>\n",
       "      <th>obscene</th>\n",
       "      <th>threat</th>\n",
       "      <th>insult</th>\n",
       "      <th>identity_hate</th>\n",
       "    </tr>\n",
       "  </thead>\n",
       "  <tbody>\n",
       "    <tr>\n",
       "      <th>5</th>\n",
       "      <td>0001ea8717f6de06</td>\n",
       "      <td>Thank you for understanding. I think very high...</td>\n",
       "      <td>0</td>\n",
       "      <td>0</td>\n",
       "      <td>0</td>\n",
       "      <td>0</td>\n",
       "      <td>0</td>\n",
       "      <td>0</td>\n",
       "    </tr>\n",
       "    <tr>\n",
       "      <th>7</th>\n",
       "      <td>000247e83dcc1211</td>\n",
       "      <td>:Dear god this site is horrible.</td>\n",
       "      <td>0</td>\n",
       "      <td>0</td>\n",
       "      <td>0</td>\n",
       "      <td>0</td>\n",
       "      <td>0</td>\n",
       "      <td>0</td>\n",
       "    </tr>\n",
       "    <tr>\n",
       "      <th>11</th>\n",
       "      <td>0002f87b16116a7f</td>\n",
       "      <td>\"::: Somebody will invariably try to add Relig...</td>\n",
       "      <td>0</td>\n",
       "      <td>0</td>\n",
       "      <td>0</td>\n",
       "      <td>0</td>\n",
       "      <td>0</td>\n",
       "      <td>0</td>\n",
       "    </tr>\n",
       "    <tr>\n",
       "      <th>13</th>\n",
       "      <td>0003e1cccfd5a40a</td>\n",
       "      <td>\" \\n\\n It says it right there that it IS a typ...</td>\n",
       "      <td>0</td>\n",
       "      <td>0</td>\n",
       "      <td>0</td>\n",
       "      <td>0</td>\n",
       "      <td>0</td>\n",
       "      <td>0</td>\n",
       "    </tr>\n",
       "    <tr>\n",
       "      <th>14</th>\n",
       "      <td>00059ace3e3e9a53</td>\n",
       "      <td>\" \\n\\n == Before adding a new product to the l...</td>\n",
       "      <td>0</td>\n",
       "      <td>0</td>\n",
       "      <td>0</td>\n",
       "      <td>0</td>\n",
       "      <td>0</td>\n",
       "      <td>0</td>\n",
       "    </tr>\n",
       "    <tr>\n",
       "      <th>...</th>\n",
       "      <td>...</td>\n",
       "      <td>...</td>\n",
       "      <td>...</td>\n",
       "      <td>...</td>\n",
       "      <td>...</td>\n",
       "      <td>...</td>\n",
       "      <td>...</td>\n",
       "      <td>...</td>\n",
       "    </tr>\n",
       "    <tr>\n",
       "      <th>153150</th>\n",
       "      <td>fff8f64043129fa2</td>\n",
       "      <td>:Jerome, I see you never got around to this…! ...</td>\n",
       "      <td>0</td>\n",
       "      <td>0</td>\n",
       "      <td>0</td>\n",
       "      <td>0</td>\n",
       "      <td>0</td>\n",
       "      <td>0</td>\n",
       "    </tr>\n",
       "    <tr>\n",
       "      <th>153151</th>\n",
       "      <td>fff9d70fe0722906</td>\n",
       "      <td>==Lucky bastard== \\n http://wikimediafoundatio...</td>\n",
       "      <td>0</td>\n",
       "      <td>0</td>\n",
       "      <td>0</td>\n",
       "      <td>0</td>\n",
       "      <td>0</td>\n",
       "      <td>0</td>\n",
       "    </tr>\n",
       "    <tr>\n",
       "      <th>153154</th>\n",
       "      <td>fffa8a11c4378854</td>\n",
       "      <td>==shame on you all!!!== \\n\\n You want to speak...</td>\n",
       "      <td>0</td>\n",
       "      <td>0</td>\n",
       "      <td>0</td>\n",
       "      <td>0</td>\n",
       "      <td>0</td>\n",
       "      <td>0</td>\n",
       "    </tr>\n",
       "    <tr>\n",
       "      <th>153155</th>\n",
       "      <td>fffac2a094c8e0e2</td>\n",
       "      <td>MEL GIBSON IS A NAZI BITCH WHO MAKES SHITTY MO...</td>\n",
       "      <td>1</td>\n",
       "      <td>0</td>\n",
       "      <td>1</td>\n",
       "      <td>0</td>\n",
       "      <td>1</td>\n",
       "      <td>0</td>\n",
       "    </tr>\n",
       "    <tr>\n",
       "      <th>153156</th>\n",
       "      <td>fffb5451268fb5ba</td>\n",
       "      <td>\" \\n\\n == Unicorn lair discovery == \\n\\n Suppo...</td>\n",
       "      <td>0</td>\n",
       "      <td>0</td>\n",
       "      <td>0</td>\n",
       "      <td>0</td>\n",
       "      <td>0</td>\n",
       "      <td>0</td>\n",
       "    </tr>\n",
       "  </tbody>\n",
       "</table>\n",
       "<p>63978 rows × 8 columns</p>\n",
       "</div>"
      ],
      "text/plain": [
       "                      id                                       comment_text  \\\n",
       "5       0001ea8717f6de06  Thank you for understanding. I think very high...   \n",
       "7       000247e83dcc1211                   :Dear god this site is horrible.   \n",
       "11      0002f87b16116a7f  \"::: Somebody will invariably try to add Relig...   \n",
       "13      0003e1cccfd5a40a  \" \\n\\n It says it right there that it IS a typ...   \n",
       "14      00059ace3e3e9a53  \" \\n\\n == Before adding a new product to the l...   \n",
       "...                  ...                                                ...   \n",
       "153150  fff8f64043129fa2  :Jerome, I see you never got around to this…! ...   \n",
       "153151  fff9d70fe0722906  ==Lucky bastard== \\n http://wikimediafoundatio...   \n",
       "153154  fffa8a11c4378854  ==shame on you all!!!== \\n\\n You want to speak...   \n",
       "153155  fffac2a094c8e0e2  MEL GIBSON IS A NAZI BITCH WHO MAKES SHITTY MO...   \n",
       "153156  fffb5451268fb5ba  \" \\n\\n == Unicorn lair discovery == \\n\\n Suppo...   \n",
       "\n",
       "        toxic  severe_toxic  obscene  threat  insult  identity_hate  \n",
       "5           0             0        0       0       0              0  \n",
       "7           0             0        0       0       0              0  \n",
       "11          0             0        0       0       0              0  \n",
       "13          0             0        0       0       0              0  \n",
       "14          0             0        0       0       0              0  \n",
       "...       ...           ...      ...     ...     ...            ...  \n",
       "153150      0             0        0       0       0              0  \n",
       "153151      0             0        0       0       0              0  \n",
       "153154      0             0        0       0       0              0  \n",
       "153155      1             0        1       0       1              0  \n",
       "153156      0             0        0       0       0              0  \n",
       "\n",
       "[63978 rows x 8 columns]"
      ]
     },
     "metadata": {},
     "output_type": "display_data"
    }
   ],
   "source": [
    "display(test_merged)"
   ]
  },
  {
   "cell_type": "code",
   "execution_count": 4,
   "metadata": {},
   "outputs": [],
   "source": [
    "cores = multiprocessing.cpu_count()\n",
    "\n",
    "y = train_data.iloc[:, 2:]\n",
    "X = train_data[['comment_text']]\n",
    "\n",
    "y_test_test = test_merged.iloc[:, 2:]\n",
    "X_test_test = test_merged[['comment_text']]\n",
    "\n",
    "lp = LabelPowerset()\n",
    "y = lp.transform(y)\n",
    "y_test_test = lp.transform(y_test_test)\n",
    "\n",
    "X_train, X_test, y_train, y_test = train_test_split(X, y, test_size = 0.2, random_state = 27)\n",
    "\n",
    "tvec = TfidfVectorizer(min_df=.0025, stop_words='english', strip_accents='unicode', analyzer='word', max_features=1000)\n",
    "X_train = tvec.fit_transform(X_train['comment_text'])\n",
    "X_test = tvec.transform(X_test['comment_text'])\n",
    "X_test_test = tvec.transform(X_test_test['comment_text'])"
   ]
  },
  {
   "cell_type": "code",
   "execution_count": 8,
   "metadata": {},
   "outputs": [
    {
     "name": "stdout",
     "output_type": "stream",
     "text": [
      "Test data from train csv\n",
      "Accuracy score: 0.9143662854457152\n",
      "F1 score: 0.8897001929107817\n",
      "Recall score: 0.9143662854457152\n",
      "\n",
      "Actual test data\n",
      "Accuracy score: 0.8879458563881334\n",
      "F1 score: 0.8728097677223877\n",
      "Recall score: 0.8879458563881334\n"
     ]
    }
   ],
   "source": [
    "lr = LogisticRegression(solver='saga', random_state = 27, n_jobs = cores).fit(X_train, y_train)\n",
    "lr_pred = lr.predict(X_test)\n",
    "lr_pred2 = lr.predict(X_test_test)\n",
    "\n",
    "print(\"Test data from train csv\")\n",
    "print(\"Accuracy score: \" + str(accuracy_score(y_test, lr_pred)))\n",
    "print(\"F1 score: \" + str(f1_score(y_test, lr_pred, average = 'weighted')))\n",
    "print(\"Recall score: \" + str(recall_score(y_test, lr_pred, average = 'weighted')))\n",
    "print(\"\\nActual test data\")\n",
    "print(\"Accuracy score: \" + str(accuracy_score(y_test_test, lr_pred2)))\n",
    "print(\"F1 score: \" + str(f1_score(y_test_test, lr_pred2, average = 'weighted')))\n",
    "print(\"Recall score: \" + str(recall_score(y_test_test, lr_pred2, average = 'weighted')))"
   ]
  },
  {
   "cell_type": "code",
   "execution_count": 9,
   "metadata": {},
   "outputs": [
    {
     "name": "stdout",
     "output_type": "stream",
     "text": [
      "Test data from train csv\n",
      "Accuracy score: 0.9115776280745731\n",
      "F1 score: 0.8874720609412652\n",
      "Recall score: 0.9115776280745731\n",
      "\n",
      "Actual test data\n",
      "Accuracy score: 0.8879458563881334\n",
      "F1 score: 0.8728097677223877\n",
      "Recall score: 0.8879458563881334\n"
     ]
    }
   ],
   "source": [
    "rfc = RandomForestClassifier(random_state = 27, n_jobs = cores).fit(X_train, y_train)\n",
    "rfc_pred = rfc.predict(X_test)\n",
    "rfc_pred2 = lr.predict(X_test_test)\n",
    "\n",
    "print(\"Test data from train csv\")\n",
    "print(\"Accuracy score: \" + str(accuracy_score(y_test, rfc_pred)))\n",
    "print(\"F1 score: \" + str(f1_score(y_test, rfc_pred, average = 'weighted')))\n",
    "print(\"Recall score: \" + str(recall_score(y_test, rfc_pred, average = 'weighted')))\n",
    "print(\"\\nActual test data\")\n",
    "print(\"Accuracy score: \" + str(accuracy_score(y_test_test, rfc_pred2)))\n",
    "print(\"F1 score: \" + str(f1_score(y_test_test, rfc_pred2, average = 'weighted')))\n",
    "print(\"Recall score: \" + str(recall_score(y_test_test, rfc_pred2, average = 'weighted')))"
   ]
  },
  {
   "cell_type": "code",
   "execution_count": 10,
   "metadata": {},
   "outputs": [
    {
     "name": "stdout",
     "output_type": "stream",
     "text": [
      "Test data from train csv\n",
      "Accuracy score: 0.8699671001096663\n",
      "F1 score: 0.8642303255663182\n",
      "Recall score: 0.8699671001096663\n",
      "\n",
      "Actual test data\n",
      "Accuracy score: 0.8879458563881334\n",
      "F1 score: 0.8728097677223877\n",
      "Recall score: 0.8879458563881334\n"
     ]
    },
    {
     "name": "stderr",
     "output_type": "stream",
     "text": [
      "/usr/local/lib/python3.6/dist-packages/sklearn/metrics/_classification.py:1272: UndefinedMetricWarning: Recall is ill-defined and being set to 0.0 in labels with no true samples. Use `zero_division` parameter to control this behavior.\n",
      "  _warn_prf(average, modifier, msg_start, len(result))\n"
     ]
    }
   ],
   "source": [
    "rfc = RandomForestClassifier(class_weight = 'balanced', random_state = 27, n_jobs = cores).fit(X_train, y_train)\n",
    "rfc_pred = rfc.predict(X_test)\n",
    "rfc_pred2 = lr.predict(X_test_test)\n",
    "\n",
    "print(\"Test data from train csv\")\n",
    "print(\"Accuracy score: \" + str(accuracy_score(y_test, rfc_pred)))\n",
    "print(\"F1 score: \" + str(f1_score(y_test, rfc_pred, average = 'weighted')))\n",
    "print(\"Recall score: \" + str(recall_score(y_test, rfc_pred, average = 'weighted')))\n",
    "print(\"\\nActual test data\")\n",
    "print(\"Accuracy score: \" + str(accuracy_score(y_test_test, rfc_pred2)))\n",
    "print(\"F1 score: \" + str(f1_score(y_test_test, rfc_pred2, average = 'weighted')))\n",
    "print(\"Recall score: \" + str(recall_score(y_test_test, rfc_pred2, average = 'weighted')))"
   ]
  },
  {
   "cell_type": "code",
   "execution_count": 11,
   "metadata": {},
   "outputs": [
    {
     "name": "stdout",
     "output_type": "stream",
     "text": [
      "Test data from train csv\n",
      "Accuracy score: 0.9140529531568228\n",
      "F1 score: 0.8898666636700854\n",
      "Recall score: 0.9140529531568228\n",
      "\n",
      "Actual test data\n",
      "Accuracy score: 0.8879458563881334\n",
      "F1 score: 0.8728097677223877\n",
      "Recall score: 0.8879458563881334\n"
     ]
    }
   ],
   "source": [
    "ovoc = OneVsOneClassifier(LinearSVC(random_state = 27), n_jobs = cores).fit(X_train, y_train)\n",
    "ovoc_pred = ovoc.predict(X_test)\n",
    "ovoc_pred2 = lr.predict(X_test_test)\n",
    "\n",
    "print(\"Test data from train csv\")\n",
    "print(\"Accuracy score: \" + str(accuracy_score(y_test, ovoc_pred)))\n",
    "print(\"F1 score: \" + str(f1_score(y_test, ovoc_pred, average = 'weighted')))\n",
    "print(\"Recall score: \" + str(recall_score(y_test, ovoc_pred, average = 'weighted')))\n",
    "print(\"\\nActual test data\")\n",
    "print(\"Accuracy score: \" + str(accuracy_score(y_test_test, ovoc_pred2)))\n",
    "print(\"F1 score: \" + str(f1_score(y_test_test, ovoc_pred2, average = 'weighted')))\n",
    "print(\"Recall score: \" + str(recall_score(y_test_test, ovoc_pred2, average = 'weighted')))"
   ]
  },
  {
   "cell_type": "code",
   "execution_count": 13,
   "metadata": {},
   "outputs": [
    {
     "name": "stdout",
     "output_type": "stream",
     "text": [
      "Test data from train csv\n",
      "Accuracy score: 0.9090396365345449\n",
      "F1 score: 0.8734082954870714\n",
      "Recall score: 0.9090396365345449\n",
      "\n",
      "Actual test data\n",
      "Accuracy score: 0.8879458563881334\n",
      "F1 score: 0.8728097677223877\n",
      "Recall score: 0.8879458563881334\n"
     ]
    }
   ],
   "source": [
    "nbc = MultinomialNB().fit(X_train, y_train)\n",
    "nbc_pred = nbc.predict(X_test)\n",
    "nbc_pred2 = lr.predict(X_test_test)\n",
    "\n",
    "print(\"Test data from train csv\")\n",
    "print(\"Accuracy score: \" + str(accuracy_score(y_test, nbc_pred)))\n",
    "print(\"F1 score: \" + str(f1_score(y_test, nbc_pred, average = 'weighted')))\n",
    "print(\"Recall score: \" + str(recall_score(y_test, nbc_pred, average = 'weighted')))\n",
    "print(\"\\nActual test data\")\n",
    "print(\"Accuracy score: \" + str(accuracy_score(y_test_test, nbc_pred2)))\n",
    "print(\"F1 score: \" + str(f1_score(y_test_test, nbc_pred2, average = 'weighted')))\n",
    "print(\"Recall score: \" + str(recall_score(y_test_test, nbc_pred2, average = 'weighted')))"
   ]
  },
  {
   "cell_type": "code",
   "execution_count": null,
   "metadata": {},
   "outputs": [],
   "source": [
    "sm = SVMSMOTE(sampling_strategy = 'minority', random_state = 27, n_jobs = cores)\n",
    "X_train_resampled, y_train_resampled = sm.fit_sample(X_train, y_train)"
   ]
  },
  {
   "cell_type": "code",
   "execution_count": null,
   "metadata": {},
   "outputs": [],
   "source": [
    "lr = LogisticRegression(solver='saga', random_state = 27, n_jobs = cores).fit(X_train_resampled, y_train_resampled)\n",
    "lr_pred = lr.predict(X_test)\n",
    "lr_pred2 = lr.predict(X_test_test)\n",
    "\n",
    "print(\"Test data from train csv\")\n",
    "print(\"Accuracy score: \" + str(accuracy_score(y_test, lr_pred)))\n",
    "print(\"F1 score: \" + str(f1_score(y_test, lr_pred, average = 'weighted')))\n",
    "print(\"Recall score: \" + str(recall_score(y_test, lr_pred, average = 'weighted')))\n",
    "print(\"\\nActual test data\")\n",
    "print(\"Accuracy score: \" + str(accuracy_score(y_test_test, lr_pred2)))\n",
    "print(\"F1 score: \" + str(f1_score(y_test_test, lr_pred2, average = 'weighted')))\n",
    "print(\"Recall score: \" + str(recall_score(y_test_test, lr_pred2, average = 'weighted')))"
   ]
  },
  {
   "cell_type": "code",
   "execution_count": null,
   "metadata": {},
   "outputs": [],
   "source": [
    "rfc = RandomForestClassifier(random_state = 27, n_jobs = cores).fit(X_train_resampled, y_train_resampled)\n",
    "rfc_pred = rfc.predict(X_test)\n",
    "rfc_pred2 = lr.predict(X_test_test)\n",
    "\n",
    "print(\"Test data from train csv\")\n",
    "print(\"Accuracy score: \" + str(accuracy_score(y_test, rfc_pred)))\n",
    "print(\"F1 score: \" + str(f1_score(y_test, rfc_pred, average = 'weighted')))\n",
    "print(\"Recall score: \" + str(recall_score(y_test, rfc_pred, average = 'weighted')))\n",
    "print(\"\\nActual test data\")\n",
    "print(\"Accuracy score: \" + str(accuracy_score(y_test_test, rfc_pred2)))\n",
    "print(\"F1 score: \" + str(f1_score(y_test_test, rfc_pred2, average = 'weighted')))\n",
    "print(\"Recall score: \" + str(recall_score(y_test_test, rfc_pred2, average = 'weighted')))"
   ]
  },
  {
   "cell_type": "code",
   "execution_count": null,
   "metadata": {},
   "outputs": [],
   "source": [
    "rfc = RandomForestClassifier(class_weight = 'balanced', random_state = 27, n_jobs = cores).fit(X_train_resampled, y_train_resampled)\n",
    "rfc_pred = rfc.predict(X_test)\n",
    "rfc_pred2 = lr.predict(X_test_test)\n",
    "\n",
    "print(\"Test data from train csv\")\n",
    "print(\"Accuracy score: \" + str(accuracy_score(y_test, rfc_pred)))\n",
    "print(\"F1 score: \" + str(f1_score(y_test, rfc_pred, average = 'weighted')))\n",
    "print(\"Recall score: \" + str(recall_score(y_test, rfc_pred, average = 'weighted')))\n",
    "print(\"\\nActual test data\")\n",
    "print(\"Accuracy score: \" + str(accuracy_score(y_test_test, rfc_pred2)))\n",
    "print(\"F1 score: \" + str(f1_score(y_test_test, rfc_pred2, average = 'weighted')))\n",
    "print(\"Recall score: \" + str(recall_score(y_test_test, rfc_pred2, average = 'weighted')))"
   ]
  },
  {
   "cell_type": "code",
   "execution_count": null,
   "metadata": {},
   "outputs": [],
   "source": [
    "ovoc = OneVsOneClassifier(LinearSVC(random_state = 27), n_jobs = cores).fit(X_train_resampled, y_train_resampled)\n",
    "ovoc_pred = ovoc.predict(X_test)\n",
    "ovoc_pred2 = lr.predict(X_test_test)\n",
    "\n",
    "print(\"Test data from train csv\")\n",
    "print(\"Accuracy score: \" + str(accuracy_score(y_test, ovoc_pred)))\n",
    "print(\"F1 score: \" + str(f1_score(y_test, ovoc_pred, average = 'weighted')))\n",
    "print(\"Recall score: \" + str(recall_score(y_test, ovoc_pred, average = 'weighted')))\n",
    "print(\"\\nActual test data\")\n",
    "print(\"Accuracy score: \" + str(accuracy_score(y_test_test, ovoc_pred2)))\n",
    "print(\"F1 score: \" + str(f1_score(y_test_test, ovoc_pred2, average = 'weighted')))\n",
    "print(\"Recall score: \" + str(recall_score(y_test_test, ovoc_pred2, average = 'weighted')))"
   ]
  },
  {
   "cell_type": "code",
   "execution_count": null,
   "metadata": {},
   "outputs": [],
   "source": [
    "nbc = MultinomialNB().fit(X_train_resampled, y_train_resampled)\n",
    "nbc_pred = nbc.predict(X_test)\n",
    "nbc_pred2 = lr.predict(X_test_test)\n",
    "\n",
    "print(\"Test data from train csv\")\n",
    "print(\"Accuracy score: \" + str(accuracy_score(y_test, nbc_pred)))\n",
    "print(\"F1 score: \" + str(f1_score(y_test, nbc_pred, average = 'weighted')))\n",
    "print(\"Recall score: \" + str(recall_score(y_test, nbc_pred, average = 'weighted')))\n",
    "print(\"\\nActual test data\")\n",
    "print(\"Accuracy score: \" + str(accuracy_score(y_test_test, nbc_pred2)))\n",
    "print(\"F1 score: \" + str(f1_score(y_test_test, nbc_pred2, average = 'weighted')))\n",
    "print(\"Recall score: \" + str(recall_score(y_test_test, nbc_pred2, average = 'weighted')))"
   ]
  }
 ],
 "metadata": {
  "kernelspec": {
   "display_name": "Python 3",
   "language": "python",
   "name": "python3"
  },
  "language_info": {
   "codemirror_mode": {
    "name": "ipython",
    "version": 3
   },
   "file_extension": ".py",
   "mimetype": "text/x-python",
   "name": "python",
   "nbconvert_exporter": "python",
   "pygments_lexer": "ipython3",
   "version": "3.6.9"
  }
 },
 "nbformat": 4,
 "nbformat_minor": 4
}
