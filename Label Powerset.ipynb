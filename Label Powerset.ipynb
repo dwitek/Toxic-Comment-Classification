{
 "cells": [
  {
   "cell_type": "code",
   "execution_count": 2,
   "metadata": {},
   "outputs": [],
   "source": [
    "import pandas as pd\n",
    "import matplotlib.pyplot as plt\n",
    "import numpy as np\n",
    "import seaborn as sn\n",
    "import multiprocessing\n",
    "from sklearn.feature_extraction.text import TfidfVectorizer \n",
    "from IPython.display import display\n",
    "from imblearn.over_sampling import SMOTE, RandomOverSampler\n",
    "from sklearn.model_selection import train_test_split\n",
    "from sklearn.metrics import accuracy_score, f1_score, hamming_loss, label_ranking_average_precision_score\n",
    "from sklearn.linear_model import LogisticRegression\n",
    "from skmultilearn.problem_transform import LabelPowerset\n",
    "from sklearn.ensemble import RandomForestClassifier\n",
    "from sklearn.tree import DecisionTreeClassifier\n",
    "from sklearn.multiclass import OneVsOneClassifier\n",
    "from sklearn.svm import LinearSVC\n",
    "from sklearn.naive_bayes import MultinomialNB, GaussianNB\n",
    "from skmultilearn.problem_transform import BinaryRelevance\n",
    "from collections import Counter\n",
    "from skmultilearn.adapt import MLkNN\n",
    "from scipy.sparse import csr_matrix, lil_matrix\n",
    "\n",
    "%matplotlib inline\n",
    "cores = multiprocessing.cpu_count()"
   ]
  },
  {
   "cell_type": "code",
   "execution_count": 3,
   "metadata": {},
   "outputs": [],
   "source": [
    "test_data = pd.read_csv(\"test.csv\")\n",
    "test_labels = pd.read_csv(\"test_labels.csv\")\n",
    "train_data = pd.read_csv(\"train.csv\")\n",
    "test_merged = pd.merge(test_data, test_labels,on='id')\n",
    "\n",
    "test_merged = test_merged.drop(test_merged[test_merged.toxic == -1].index)\n",
    "\n",
    "toxic_train_data = train_data[(train_data['toxic'] == 1) | (train_data['severe_toxic'] == 1) | (train_data['obscene'] == 1) |\n",
    "                       (train_data['threat'] == 1) | (train_data['insult'] == 1) | (train_data['identity_hate'] == 1)]\n",
    "\n",
    "toxic_test_data = test_merged[(test_merged['toxic'] == 1) | (test_merged['severe_toxic'] == 1) | (test_merged['obscene'] == 1) |\n",
    "                       (test_merged['threat'] == 1) | (test_merged['insult'] == 1) | (test_merged['identity_hate'] == 1)]"
   ]
  },
  {
   "cell_type": "code",
   "execution_count": 4,
   "metadata": {},
   "outputs": [],
   "source": [
    "y_train = toxic_train_data.iloc[:, 2:]\n",
    "X_train = toxic_train_data[['comment_text']]\n",
    "\n",
    "y_test = toxic_test_data.iloc[:, 2:]\n",
    "X_test = toxic_test_data[['comment_text']]\n",
    "\n",
    "lp = LabelPowerset()\n",
    "y_train = lp.transform(y_train)\n",
    "y_test = lp.transform(y_test)\n",
    "\n",
    "tvec = TfidfVectorizer(min_df=.0025, stop_words='english', strip_accents='unicode', analyzer='word', max_features=1000)\n",
    "X_train = tvec.fit_transform(X_train['comment_text'])\n",
    "X_test = tvec.transform(X_test['comment_text'])"
   ]
  },
  {
   "cell_type": "code",
   "execution_count": 10,
   "metadata": {},
   "outputs": [
    {
     "name": "stdout",
     "output_type": "stream",
     "text": [
      "GaussianNB\n",
      "Accuracy score: 0.033317315393240426\n",
      "F1 score: 0.05226270985131518\n"
     ]
    }
   ],
   "source": [
    "classifier = GaussianNB().fit(X_train.toarray(), y_train)\n",
    "y_pred = classifier.predict(X_test.toarray())\n",
    "\n",
    "print(\"GaussianNB\")\n",
    "print(\"Accuracy score: \" + str(accuracy_score(y_test, y_pred)))\n",
    "print(\"F1 score: \" + str(f1_score(y_test, y_pred, average = 'weighted')))"
   ]
  },
  {
   "cell_type": "code",
   "execution_count": 11,
   "metadata": {},
   "outputs": [
    {
     "name": "stdout",
     "output_type": "stream",
     "text": [
      "MultinomialNB\n",
      "Accuracy score: 0.08649687650168188\n",
      "F1 score: 0.03757710203924395\n"
     ]
    }
   ],
   "source": [
    "classifier = MultinomialNB().fit(X_train, y_train)\n",
    "y_pred = classifier.predict(X_test)\n",
    "\n",
    "print(\"MultinomialNB\")\n",
    "print(\"Accuracy score: \" + str(accuracy_score(y_test, y_pred)))\n",
    "print(\"F1 score: \" + str(f1_score(y_test, y_pred, average = 'weighted')))"
   ]
  },
  {
   "cell_type": "code",
   "execution_count": 12,
   "metadata": {},
   "outputs": [
    {
     "name": "stdout",
     "output_type": "stream",
     "text": [
      "LogisticRegression, solver = saga\n",
      "Accuracy score: 0.0675957071920551\n",
      "F1 score: 0.03646263448415717\n"
     ]
    }
   ],
   "source": [
    "classifier = LogisticRegression(solver='saga', random_state = 27, n_jobs = cores).fit(X_train, y_train)\n",
    "y_pred = classifier.predict(X_test)\n",
    "\n",
    "print(\"LogisticRegression, solver = saga\")\n",
    "print(\"Accuracy score: \" + str(accuracy_score(y_test, y_pred)))\n",
    "print(\"F1 score: \" + str(f1_score(y_test, y_pred, average = 'weighted')))"
   ]
  },
  {
   "cell_type": "code",
   "execution_count": 13,
   "metadata": {},
   "outputs": [
    {
     "name": "stdout",
     "output_type": "stream",
     "text": [
      "RandomForestClassifier\n",
      "Accuracy score: 0.08249239147845587\n",
      "F1 score: 0.04071882819709735\n"
     ]
    }
   ],
   "source": [
    "classifier = RandomForestClassifier(random_state = 27, n_jobs = cores).fit(X_train, y_train)\n",
    "y_pred = classifier.predict(X_test)\n",
    "\n",
    "print(\"RandomForestClassifier\")\n",
    "print(\"Accuracy score: \" + str(accuracy_score(y_test, y_pred)))\n",
    "print(\"F1 score: \" + str(f1_score(y_test, y_pred, average = 'weighted')))"
   ]
  },
  {
   "cell_type": "code",
   "execution_count": 14,
   "metadata": {},
   "outputs": [
    {
     "name": "stdout",
     "output_type": "stream",
     "text": [
      "DecisionTreeClassifier\n",
      "Accuracy score: 0.07720647124779753\n",
      "F1 score: 0.05470179132176864\n"
     ]
    }
   ],
   "source": [
    "classifier = DecisionTreeClassifier(random_state = 27).fit(X_train, y_train)\n",
    "y_pred = classifier.predict(X_test)\n",
    "\n",
    "print(\"DecisionTreeClassifier\")\n",
    "print(\"Accuracy score: \" + str(accuracy_score(y_test, y_pred)))\n",
    "print(\"F1 score: \" + str(f1_score(y_test, y_pred, average = 'weighted')))"
   ]
  },
  {
   "cell_type": "code",
   "execution_count": 15,
   "metadata": {},
   "outputs": [
    {
     "name": "stdout",
     "output_type": "stream",
     "text": [
      "OneVsOneClassifier, LinearSVC\n",
      "Accuracy score: 0.06775588659298415\n",
      "F1 score: 0.04041210504518198\n"
     ]
    }
   ],
   "source": [
    "classifier = OneVsOneClassifier(LinearSVC(random_state = 27), n_jobs = cores).fit(X_train, y_train)\n",
    "y_pred = classifier.predict(X_test)\n",
    "\n",
    "print(\"OneVsOneClassifier, LinearSVC\")\n",
    "print(\"Accuracy score: \" + str(accuracy_score(y_test, y_pred)))\n",
    "print(\"F1 score: \" + str(f1_score(y_test, y_pred, average = 'weighted')))"
   ]
  },
  {
   "cell_type": "code",
   "execution_count": 16,
   "metadata": {},
   "outputs": [
    {
     "name": "stderr",
     "output_type": "stream",
     "text": [
      "/usr/local/lib/python3.6/dist-packages/imblearn/utils/_validation.py:324: UserWarning: After over-sampling, the number of samples (5698) in class 1 will be larger than the number of samples in the majority class (class #1 -> 5666)\n",
      "  n_samples_majority,\n"
     ]
    }
   ],
   "source": [
    "counter = Counter(y_train)\n",
    "for elem in counter.most_common():\n",
    "    count = elem[1]\n",
    "    while count < 6:\n",
    "        count += 1\n",
    "        counter.update({elem[0], 1})\n",
    "        \n",
    "ros = RandomOverSampler(sampling_strategy = counter, random_state = 27)\n",
    "X_tmp, y_tmp = ros.fit_sample(X_train, y_train)\n",
    "\n",
    "sm = SMOTE(random_state = 27, n_jobs = cores)\n",
    "X_train_resampled, y_train_resampled = sm.fit_sample(X_tmp, y_tmp)"
   ]
  },
  {
   "cell_type": "code",
   "execution_count": 18,
   "metadata": {},
   "outputs": [
    {
     "name": "stdout",
     "output_type": "stream",
     "text": [
      "GaussianNB resampled\n",
      "Accuracy score: 0.025468524747717443\n",
      "F1 score: 0.03719505809398279\n"
     ]
    }
   ],
   "source": [
    "classifier = GaussianNB().fit(X_train_resampled.toarray(), y_train_resampled)\n",
    "y_pred = classifier.predict(X_test.toarray())\n",
    "\n",
    "print(\"GaussianNB resampled\")\n",
    "print(\"Accuracy score: \" + str(accuracy_score(y_test, y_pred)))\n",
    "print(\"F1 score: \" + str(f1_score(y_test, y_pred, average = 'weighted')))"
   ]
  },
  {
   "cell_type": "code",
   "execution_count": 19,
   "metadata": {},
   "outputs": [
    {
     "name": "stdout",
     "output_type": "stream",
     "text": [
      "MultinomialNB resampled\n",
      "Accuracy score: 0.03315713599231139\n",
      "F1 score: 0.049320245553750273\n"
     ]
    }
   ],
   "source": [
    "classifier = MultinomialNB().fit(X_train_resampled, y_train_resampled)\n",
    "y_pred = classifier.predict(X_test)\n",
    "\n",
    "print(\"MultinomialNB resampled\")\n",
    "print(\"Accuracy score: \" + str(accuracy_score(y_test, y_pred)))\n",
    "print(\"F1 score: \" + str(f1_score(y_test, y_pred, average = 'weighted')))"
   ]
  },
  {
   "cell_type": "code",
   "execution_count": 20,
   "metadata": {},
   "outputs": [
    {
     "name": "stdout",
     "output_type": "stream",
     "text": [
      "LogisticRegression, solver = saga resampled\n",
      "Accuracy score: 0.035399647605317955\n",
      "F1 score: 0.05117801189731768\n"
     ]
    }
   ],
   "source": [
    "classifier = LogisticRegression(solver='saga', random_state = 27, n_jobs = cores).fit(X_train_resampled, y_train_resampled)\n",
    "y_pred = classifier.predict(X_test)\n",
    "\n",
    "print(\"LogisticRegression, solver = saga resampled\")\n",
    "print(\"Accuracy score: \" + str(accuracy_score(y_test, y_pred)))\n",
    "print(\"F1 score: \" + str(f1_score(y_test, y_pred, average = 'weighted')))"
   ]
  },
  {
   "cell_type": "code",
   "execution_count": 22,
   "metadata": {},
   "outputs": [
    {
     "name": "stdout",
     "output_type": "stream",
     "text": [
      "RandomForestClassifier resampled\n",
      "Accuracy score: 0.05157776709915105\n",
      "F1 score: 0.04955811843935246\n"
     ]
    }
   ],
   "source": [
    "classifier = RandomForestClassifier(random_state = 27, n_jobs = cores).fit(X_train_resampled, y_train_resampled)\n",
    "y_pred = classifier.predict(X_test)\n",
    "\n",
    "print(\"RandomForestClassifier resampled\")\n",
    "print(\"Accuracy score: \" + str(accuracy_score(y_test, y_pred)))\n",
    "print(\"F1 score: \" + str(f1_score(y_test, y_pred, average = 'weighted')))"
   ]
  },
  {
   "cell_type": "code",
   "execution_count": 23,
   "metadata": {},
   "outputs": [
    {
     "name": "stdout",
     "output_type": "stream",
     "text": [
      "DecisionTreeClassifier resampled\n",
      "Accuracy score: 0.05990709594746116\n",
      "F1 score: 0.061515018814397714\n"
     ]
    }
   ],
   "source": [
    "classifier = DecisionTreeClassifier(random_state = 27).fit(X_train_resampled, y_train_resampled)\n",
    "y_pred = classifier.predict(X_test)\n",
    "\n",
    "print(\"DecisionTreeClassifier resampled\")\n",
    "print(\"Accuracy score: \" + str(accuracy_score(y_test, y_pred)))\n",
    "print(\"F1 score: \" + str(f1_score(y_test, y_pred, average = 'weighted')))"
   ]
  },
  {
   "cell_type": "code",
   "execution_count": 21,
   "metadata": {},
   "outputs": [
    {
     "name": "stdout",
     "output_type": "stream",
     "text": [
      "OneVsOneClassifier, LinearSVC resampled\n",
      "Accuracy score: 0.04372897645362806\n",
      "F1 score: 0.05457094738804421\n"
     ]
    }
   ],
   "source": [
    "classifier = OneVsOneClassifier(LinearSVC(random_state = 27), n_jobs = cores).fit(X_train_resampled, y_train_resampled)\n",
    "y_pred = classifier.predict(X_test)\n",
    "\n",
    "print(\"OneVsOneClassifier, LinearSVC resampled\")\n",
    "print(\"Accuracy score: \" + str(accuracy_score(y_test, y_pred)))\n",
    "print(\"F1 score: \" + str(f1_score(y_test, y_pred, average = 'weighted')))"
   ]
  }
 ],
 "metadata": {
  "kernelspec": {
   "display_name": "Python 3",
   "language": "python",
   "name": "python3"
  },
  "language_info": {
   "codemirror_mode": {
    "name": "ipython",
    "version": 3
   },
   "file_extension": ".py",
   "mimetype": "text/x-python",
   "name": "python",
   "nbconvert_exporter": "python",
   "pygments_lexer": "ipython3",
   "version": "3.6.9"
  }
 },
 "nbformat": 4,
 "nbformat_minor": 4
}
