{
 "cells": [
  {
   "cell_type": "code",
   "execution_count": 2,
   "metadata": {},
   "outputs": [],
   "source": [
    "import pandas as pd\n",
    "import matplotlib.pyplot as plt\n",
    "import numpy as np\n",
    "import seaborn as sn\n",
    "import multiprocessing\n",
    "from sklearn.feature_extraction.text import TfidfVectorizer \n",
    "from IPython.display import display\n",
    "from imblearn.over_sampling import SMOTE, RandomOverSampler\n",
    "from sklearn.model_selection import train_test_split\n",
    "from sklearn.metrics import accuracy_score, f1_score, hamming_loss, label_ranking_average_precision_score\n",
    "from sklearn.linear_model import LogisticRegression\n",
    "from skmultilearn.problem_transform import LabelPowerset\n",
    "from sklearn.ensemble import RandomForestClassifier\n",
    "from sklearn.tree import DecisionTreeClassifier\n",
    "from sklearn.multiclass import OneVsOneClassifier\n",
    "from sklearn.svm import LinearSVC\n",
    "from sklearn.naive_bayes import MultinomialNB, GaussianNB\n",
    "from skmultilearn.problem_transform import BinaryRelevance\n",
    "from collections import Counter\n",
    "from skmultilearn.adapt import MLkNN\n",
    "from scipy.sparse import csr_matrix, lil_matrix\n",
    "\n",
    "%matplotlib inline\n",
    "cores = multiprocessing.cpu_count()"
   ]
  },
  {
   "cell_type": "code",
   "execution_count": 3,
   "metadata": {},
   "outputs": [],
   "source": [
    "test_data = pd.read_csv(\"test.csv\")\n",
    "test_labels = pd.read_csv(\"test_labels.csv\")\n",
    "train_data = pd.read_csv(\"train.csv\")\n",
    "test_merged = pd.merge(test_data, test_labels,on='id')\n",
    "\n",
    "test_merged = test_merged.drop(test_merged[test_merged.toxic == -1].index)\n",
    "\n",
    "toxic_train_data = train_data[(train_data['toxic'] == 1) | (train_data['severe_toxic'] == 1) | (train_data['obscene'] == 1) |\n",
    "                       (train_data['threat'] == 1) | (train_data['insult'] == 1) | (train_data['identity_hate'] == 1)]\n",
    "\n",
    "toxic_test_data = test_merged[(test_merged['toxic'] == 1) | (test_merged['severe_toxic'] == 1) | (test_merged['obscene'] == 1) |\n",
    "                       (test_merged['threat'] == 1) | (test_merged['insult'] == 1) | (test_merged['identity_hate'] == 1)]"
   ]
  },
  {
   "cell_type": "code",
   "execution_count": 4,
   "metadata": {},
   "outputs": [],
   "source": [
    "y_train = toxic_train_data.iloc[:, 2:]\n",
    "X_train = toxic_train_data[['comment_text']]\n",
    "\n",
    "y_test = toxic_test_data.iloc[:, 2:]\n",
    "X_test = toxic_test_data[['comment_text']]\n",
    "\n",
    "tvec = TfidfVectorizer(min_df=.0025, stop_words='english', strip_accents='unicode', analyzer='word', max_features=1000)\n",
    "X_train = tvec.fit_transform(X_train['comment_text'])\n",
    "X_test = tvec.transform(X_test['comment_text'])\n",
    "\n",
    "X_train = lil_matrix(X_train).toarray()\n",
    "y_train = lil_matrix(y_train).toarray()\n",
    "X_test = lil_matrix(X_test).toarray()"
   ]
  },
  {
   "cell_type": "code",
   "execution_count": 6,
   "metadata": {},
   "outputs": [
    {
     "name": "stdout",
     "output_type": "stream",
     "text": [
      "MLkNN\n",
      "Accuracy score: 0.4300816914944738\n",
      "Hamming loss: 0.13185434353142186\n",
      "F1 score: 0.8015773558774071\n",
      "LRAP: 0.8115061758057941\n"
     ]
    }
   ],
   "source": [
    "classifier = RandomForestClassifier(random_state = 27, n_jobs = cores)\n",
    "classifier.fit(X_train, y_train)\n",
    "y_pred = classifier.predict(X_test)\n",
    "\n",
    "print(\"MLkNN\")\n",
    "print(\"Accuracy score: \" + str(accuracy_score(y_test, y_pred)))\n",
    "print(\"Hamming loss: \" + str(hamming_loss(y_test, y_pred)))\n",
    "print(\"F1 score: \" + str(f1_score(y_test, y_pred, average = 'weighted')))\n",
    "print(\"LRAP: \" + str(label_ranking_average_precision_score(y_test, y_pred)))"
   ]
  },
  {
   "cell_type": "code",
   "execution_count": 8,
   "metadata": {},
   "outputs": [
    {
     "name": "stdout",
     "output_type": "stream",
     "text": [
      "MLkNN\n",
      "Accuracy score: 0.36777190453307707\n",
      "Hamming loss: 0.15748304768006835\n",
      "F1 score: 0.7860626651935952\n",
      "LRAP: 0.7730135529570901\n"
     ]
    }
   ],
   "source": [
    "classifier = DecisionTreeClassifier(random_state = 27)\n",
    "classifier.fit(X_train, y_train)\n",
    "y_pred = classifier.predict(X_test)\n",
    "\n",
    "print(\"MLkNN\")\n",
    "print(\"Accuracy score: \" + str(accuracy_score(y_test, y_pred)))\n",
    "print(\"Hamming loss: \" + str(hamming_loss(y_test, y_pred)))\n",
    "print(\"F1 score: \" + str(f1_score(y_test, y_pred, average = 'weighted')))\n",
    "print(\"LRAP: \" + str(label_ranking_average_precision_score(y_test, y_pred)))"
   ]
  }
 ],
 "metadata": {
  "kernelspec": {
   "display_name": "Python 3",
   "language": "python",
   "name": "python3"
  },
  "language_info": {
   "codemirror_mode": {
    "name": "ipython",
    "version": 3
   },
   "file_extension": ".py",
   "mimetype": "text/x-python",
   "name": "python",
   "nbconvert_exporter": "python",
   "pygments_lexer": "ipython3",
   "version": "3.6.9"
  }
 },
 "nbformat": 4,
 "nbformat_minor": 4
}
