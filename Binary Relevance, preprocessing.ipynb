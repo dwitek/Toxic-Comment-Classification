{
 "cells": [
  {
   "cell_type": "code",
   "execution_count": 1,
   "metadata": {},
   "outputs": [
    {
     "name": "stderr",
     "output_type": "stream",
     "text": [
      "Using TensorFlow backend.\n",
      "/usr/local/lib/python3.6/dist-packages/tensorflow/python/framework/dtypes.py:516: FutureWarning: Passing (type, 1) or '1type' as a synonym of type is deprecated; in a future version of numpy, it will be understood as (type, (1,)) / '(1,)type'.\n",
      "  _np_qint8 = np.dtype([(\"qint8\", np.int8, 1)])\n",
      "/usr/local/lib/python3.6/dist-packages/tensorflow/python/framework/dtypes.py:517: FutureWarning: Passing (type, 1) or '1type' as a synonym of type is deprecated; in a future version of numpy, it will be understood as (type, (1,)) / '(1,)type'.\n",
      "  _np_quint8 = np.dtype([(\"quint8\", np.uint8, 1)])\n",
      "/usr/local/lib/python3.6/dist-packages/tensorflow/python/framework/dtypes.py:518: FutureWarning: Passing (type, 1) or '1type' as a synonym of type is deprecated; in a future version of numpy, it will be understood as (type, (1,)) / '(1,)type'.\n",
      "  _np_qint16 = np.dtype([(\"qint16\", np.int16, 1)])\n",
      "/usr/local/lib/python3.6/dist-packages/tensorflow/python/framework/dtypes.py:519: FutureWarning: Passing (type, 1) or '1type' as a synonym of type is deprecated; in a future version of numpy, it will be understood as (type, (1,)) / '(1,)type'.\n",
      "  _np_quint16 = np.dtype([(\"quint16\", np.uint16, 1)])\n",
      "/usr/local/lib/python3.6/dist-packages/tensorflow/python/framework/dtypes.py:520: FutureWarning: Passing (type, 1) or '1type' as a synonym of type is deprecated; in a future version of numpy, it will be understood as (type, (1,)) / '(1,)type'.\n",
      "  _np_qint32 = np.dtype([(\"qint32\", np.int32, 1)])\n",
      "/usr/local/lib/python3.6/dist-packages/tensorflow/python/framework/dtypes.py:525: FutureWarning: Passing (type, 1) or '1type' as a synonym of type is deprecated; in a future version of numpy, it will be understood as (type, (1,)) / '(1,)type'.\n",
      "  np_resource = np.dtype([(\"resource\", np.ubyte, 1)])\n",
      "/usr/local/lib/python3.6/dist-packages/tensorboard/compat/tensorflow_stub/dtypes.py:541: FutureWarning: Passing (type, 1) or '1type' as a synonym of type is deprecated; in a future version of numpy, it will be understood as (type, (1,)) / '(1,)type'.\n",
      "  _np_qint8 = np.dtype([(\"qint8\", np.int8, 1)])\n",
      "/usr/local/lib/python3.6/dist-packages/tensorboard/compat/tensorflow_stub/dtypes.py:542: FutureWarning: Passing (type, 1) or '1type' as a synonym of type is deprecated; in a future version of numpy, it will be understood as (type, (1,)) / '(1,)type'.\n",
      "  _np_quint8 = np.dtype([(\"quint8\", np.uint8, 1)])\n",
      "/usr/local/lib/python3.6/dist-packages/tensorboard/compat/tensorflow_stub/dtypes.py:543: FutureWarning: Passing (type, 1) or '1type' as a synonym of type is deprecated; in a future version of numpy, it will be understood as (type, (1,)) / '(1,)type'.\n",
      "  _np_qint16 = np.dtype([(\"qint16\", np.int16, 1)])\n",
      "/usr/local/lib/python3.6/dist-packages/tensorboard/compat/tensorflow_stub/dtypes.py:544: FutureWarning: Passing (type, 1) or '1type' as a synonym of type is deprecated; in a future version of numpy, it will be understood as (type, (1,)) / '(1,)type'.\n",
      "  _np_quint16 = np.dtype([(\"quint16\", np.uint16, 1)])\n",
      "/usr/local/lib/python3.6/dist-packages/tensorboard/compat/tensorflow_stub/dtypes.py:545: FutureWarning: Passing (type, 1) or '1type' as a synonym of type is deprecated; in a future version of numpy, it will be understood as (type, (1,)) / '(1,)type'.\n",
      "  _np_qint32 = np.dtype([(\"qint32\", np.int32, 1)])\n",
      "/usr/local/lib/python3.6/dist-packages/tensorboard/compat/tensorflow_stub/dtypes.py:550: FutureWarning: Passing (type, 1) or '1type' as a synonym of type is deprecated; in a future version of numpy, it will be understood as (type, (1,)) / '(1,)type'.\n",
      "  np_resource = np.dtype([(\"resource\", np.ubyte, 1)])\n"
     ]
    }
   ],
   "source": [
    "import pandas as pd\n",
    "import matplotlib.pyplot as plt\n",
    "import numpy as np\n",
    "import seaborn as sn\n",
    "import multiprocessing\n",
    "from sklearn.feature_extraction.text import TfidfVectorizer \n",
    "from IPython.display import display\n",
    "from imblearn.over_sampling import SMOTE, RandomOverSampler\n",
    "from sklearn.model_selection import train_test_split\n",
    "from sklearn.metrics import accuracy_score, f1_score, hamming_loss, label_ranking_average_precision_score\n",
    "from sklearn.linear_model import LogisticRegression\n",
    "from skmultilearn.problem_transform import LabelPowerset\n",
    "from sklearn.ensemble import RandomForestClassifier\n",
    "from sklearn.tree import DecisionTreeClassifier\n",
    "from sklearn.multiclass import OneVsOneClassifier\n",
    "from sklearn.svm import LinearSVC\n",
    "from sklearn.naive_bayes import MultinomialNB, GaussianNB\n",
    "from skmultilearn.problem_transform import BinaryRelevance\n",
    "from collections import Counter\n",
    "from skmultilearn.adapt import MLkNN\n",
    "from scipy.sparse import csr_matrix, lil_matrix\n",
    "\n",
    "%matplotlib inline\n",
    "cores = multiprocessing.cpu_count()"
   ]
  },
  {
   "cell_type": "code",
   "execution_count": 2,
   "metadata": {},
   "outputs": [],
   "source": [
    "test_data = pd.read_csv(\"test.csv\")\n",
    "test_labels = pd.read_csv(\"test_labels.csv\")\n",
    "train_data = pd.read_csv(\"train.csv\")\n",
    "test_merged = pd.merge(test_data, test_labels,on='id')\n",
    "\n",
    "test_merged = test_merged.drop(test_merged[test_merged.toxic == -1].index)\n",
    "\n",
    "toxic_train_data = train_data[(train_data['toxic'] == 1) | (train_data['severe_toxic'] == 1) | (train_data['obscene'] == 1) |\n",
    "                       (train_data['threat'] == 1) | (train_data['insult'] == 1) | (train_data['identity_hate'] == 1)]\n",
    "\n",
    "toxic_test_data = test_merged[(test_merged['toxic'] == 1) | (test_merged['severe_toxic'] == 1) | (test_merged['obscene'] == 1) |\n",
    "                       (test_merged['threat'] == 1) | (test_merged['insult'] == 1) | (test_merged['identity_hate'] == 1)]"
   ]
  },
  {
   "cell_type": "code",
   "execution_count": 3,
   "metadata": {},
   "outputs": [],
   "source": [
    "y_train = toxic_train_data.iloc[:, 2:]\n",
    "X_train = toxic_train_data[['comment_text']]\n",
    "\n",
    "y_test = toxic_test_data.iloc[:, 2:]\n",
    "X_test = toxic_test_data[['comment_text']]\n",
    "\n",
    "tvec = TfidfVectorizer(min_df=.0025, stop_words='english', strip_accents='unicode', analyzer='word', max_features=1000)\n",
    "X_train_standard = tvec.fit_transform(X_train.copy()['comment_text'])\n",
    "X_test_standard = tvec.transform(X_test.copy()['comment_text'])"
   ]
  },
  {
   "cell_type": "code",
   "execution_count": 4,
   "metadata": {},
   "outputs": [],
   "source": [
    "import re\n",
    "import string\n",
    "from nltk.stem import PorterStemmer, SnowballStemmer, LancasterStemmer\n",
    "from nltk.tokenize import word_tokenize\n",
    "from nltk.stem import WordNetLemmatizer\n",
    "from sklearn.feature_extraction.text import ENGLISH_STOP_WORDS\n",
    "\n",
    "def lowercase(input_str):\n",
    "    return input_str.lower()\n",
    "\n",
    "def remove_numbers(input_str):\n",
    "    return re.sub(r'\\d+', '', input_str)\n",
    "\n",
    "def remove_punctuation(input_str):\n",
    "    return input_str.translate(str.maketrans(string.punctuation,' ' * len(string.punctuation)))\n",
    "\n",
    "def remove_whitespaces(input_str):\n",
    "    return input_str.strip()\n",
    "\n",
    "def tokenize(input_str):\n",
    "    return word_tokenize(input_str)\n",
    "\n",
    "def porter_stemming(input_str):\n",
    "    stemmer = PorterStemmer()\n",
    "    return [stemmer.stem(word) for word in input_str]\n",
    "\n",
    "def snowball_stemming(input_str):\n",
    "    stemmer = SnowballStemmer(\"english\")\n",
    "    return [stemmer.stem(word) for word in input_str]\n",
    "\n",
    "def lemmatization(input_str):\n",
    "    lemmatizer=WordNetLemmatizer()\n",
    "    return [lemmatizer.lemmatize(word) for word in input_str]\n",
    "\n",
    "def lancaster_stemming(input_str):\n",
    "    stemmer = LancasterStemmer()\n",
    "    return [stemmer.stem(word) for word in input_str]\n",
    "\n",
    "def remove_stop_words(input_str):\n",
    "    return [word for word in input_str if not word in ENGLISH_STOP_WORDS]\n",
    "\n",
    "def preprocessing(dataframe):\n",
    "    for index, row in dataframe.iterrows():\n",
    "        row['comment_text'] = lowercase(row['comment_text'])\n",
    "        row['comment_text'] = remove_numbers(row['comment_text'])\n",
    "        row['comment_text'] = remove_punctuation(row['comment_text'])\n",
    "        row['comment_text'] = remove_whitespaces(row['comment_text'])\n",
    "        row['comment_text'] = tokenize(row['comment_text'])\n",
    "        row['comment_text'] = remove_stop_words(row['comment_text'])\n",
    "    return dataframe\n",
    "    \n",
    "def porter_stem(dataframe):\n",
    "    copy = dataframe.copy()\n",
    "    \n",
    "    for index, row in preprocessing(copy).iterrows():\n",
    "        row['comment_text'] = porter_stemming(row['comment_text'])\n",
    "    return copy\n",
    "    \n",
    "def snowball_stem(dataframe):\n",
    "    copy = dataframe.copy()\n",
    "    \n",
    "    for index, row in preprocessing(copy).iterrows():\n",
    "        row['comment_text'] = snowball_stemming(row['comment_text'])\n",
    "    return copy\n",
    "\n",
    "def lemmatize(dataframe):\n",
    "    copy = dataframe.copy()\n",
    "    \n",
    "    for index, row in preprocessing(copy).iterrows():\n",
    "        row['comment_text'] = lemmatization(row['comment_text'])\n",
    "    return copy\n",
    "\n",
    "def lancaster_stem(dataframe):\n",
    "    copy = dataframe.copy()\n",
    "    \n",
    "    for index, row in preprocessing(copy).iterrows():\n",
    "        row['comment_text'] = lancaster_stemming(row['comment_text'])\n",
    "    return copy\n"
   ]
  },
  {
   "cell_type": "code",
   "execution_count": 5,
   "metadata": {},
   "outputs": [],
   "source": [
    "def identity_tokenizer(text):\n",
    "    return text\n",
    "\n",
    "tvec = TfidfVectorizer(tokenizer=identity_tokenizer, lowercase=False)\n",
    "X_train_porter_stem = porter_stem(X_train)\n",
    "X_train_porter_stem = tvec.fit_transform(X_train_porter_stem['comment_text'])\n",
    "X_test_porter_stem = porter_stem(X_test)\n",
    "X_test_porter_stem = tvec.transform(X_test_porter_stem['comment_text'])\n",
    "\n",
    "tvec = TfidfVectorizer(tokenizer=identity_tokenizer, lowercase=False)\n",
    "X_train_snowball_stem = snowball_stem(X_train)\n",
    "X_train_snowball_stem = tvec.fit_transform(X_train_snowball_stem['comment_text'])\n",
    "X_test_snowball_stem = snowball_stem(X_test)\n",
    "X_test_snowball_stem = tvec.transform(X_test_snowball_stem['comment_text'])\n",
    "\n",
    "tvec = TfidfVectorizer(tokenizer=identity_tokenizer, lowercase=False)\n",
    "X_train_lemmatize = lemmatize(X_train)\n",
    "X_train_lemmatize = tvec.fit_transform(X_train_lemmatize['comment_text'])\n",
    "X_test_lemmatize = lemmatize(X_test)\n",
    "X_test_lemmatize = tvec.transform(X_test_lemmatize['comment_text'])\n",
    "\n",
    "tvec = TfidfVectorizer(tokenizer=identity_tokenizer, lowercase=False)\n",
    "X_train_lancaster_stem = lancaster_stem(X_train)\n",
    "X_train_lancaster_stem = tvec.fit_transform(X_train_lancaster_stem['comment_text'])\n",
    "X_test_lancaster_stem = lancaster_stem(X_test)\n",
    "X_test_lancaster_stem = tvec.transform(X_test_lancaster_stem['comment_text'])"
   ]
  },
  {
   "cell_type": "code",
   "execution_count": 9,
   "metadata": {},
   "outputs": [],
   "source": [
    "def classify(classifier, X_train, y_train, X_test, y_test, title):\n",
    "    classifier.fit(X_train, y_train)\n",
    "    y_pred = classifier.predict(X_test)\n",
    "\n",
    "    print(title)\n",
    "    print(\"Accuracy score: \" + str(accuracy_score(y_test, y_pred)))\n",
    "    print(\"Hamming loss: \" + str(hamming_loss(y_test, y_pred)))\n",
    "    print(\"F1 score: \" + str(f1_score(y_test, y_pred, average = 'weighted')))\n",
    "    print(\"LRAP: \" + str(label_ranking_average_precision_score(y_test, y_pred.toarray())))\n",
    "    print()\n",
    "    \n",
    "def test_classifiers(X_train, y_train, X_test, y_test):\n",
    "    classifiers = [BinaryRelevance(GaussianNB()), BinaryRelevance(MultinomialNB()), BinaryRelevance(LogisticRegression(solver='saga', random_state = 27, n_jobs = cores)),\n",
    "                  BinaryRelevance(RandomForestClassifier(random_state = 27, n_jobs = cores)), BinaryRelevance(DecisionTreeClassifier(random_state = 27)),\n",
    "                  BinaryRelevance(OneVsOneClassifier(LinearSVC(random_state = 27), n_jobs = cores))]\n",
    "    titles = [\"GaussianNB\", \"MultinomialNB\", \"LogisticRegression, solver = saga\", \"RandomForestClassifier\",\n",
    "             \"DecisionTreeClassifier\", \"OneVsOneClassifier, LinearSVC\"]\n",
    "    for index, classifier in enumerate(classifiers):\n",
    "        classify(classifier, X_train, y_train, X_test, y_test, titles[index])"
   ]
  },
  {
   "cell_type": "code",
   "execution_count": 12,
   "metadata": {
    "collapsed": true
   },
   "outputs": [
    {
     "name": "stdout",
     "output_type": "stream",
     "text": [
      "Using TfidfVectorizer tokenizer\n",
      "GaussianNB\n",
      "Accuracy score: 0.038923594425756845\n",
      "Hamming loss: 0.4663623258049015\n",
      "F1 score: 0.6602677061947089\n",
      "LRAP: 0.45383820990620427\n",
      "MultinomialNB\n",
      "Accuracy score: 0.4015697581291046\n",
      "Hamming loss: 0.13940947194190828\n",
      "F1 score: 0.7858618158151908\n",
      "LRAP: 0.7947329898375096\n",
      "LogisticRegression, solver = saga\n",
      "Accuracy score: 0.44081371135671954\n",
      "Hamming loss: 0.12552725719472477\n",
      "F1 score: 0.818340057332087\n",
      "LRAP: 0.8188458629220295\n",
      "RandomForestClassifier\n",
      "Accuracy score: 0.4263975652731059\n",
      "Hamming loss: 0.1288643280474131\n",
      "F1 score: 0.8127047537104652\n",
      "LRAP: 0.8087762293769047\n",
      "DecisionTreeClassifier\n",
      "Accuracy score: 0.34118212397885633\n",
      "Hamming loss: 0.1565753644081371\n",
      "F1 score: 0.7933657971451523\n",
      "LRAP: 0.7612575417801286\n",
      "OneVsOneClassifier, LinearSVC\n",
      "Accuracy score: 0.4411340701585776\n",
      "Hamming loss: 0.12558065032836777\n",
      "F1 score: 0.8222190384807935\n",
      "LRAP: 0.8159572054033849\n"
     ]
    }
   ],
   "source": [
    "print(\"Using TfidfVectorizer tokenizer\")\n",
    "test_classifiers(X_train_standard, y_train, X_test_standard, y_test)"
   ]
  },
  {
   "cell_type": "code",
   "execution_count": null,
   "metadata": {},
   "outputs": [],
   "source": [
    "print(\"Using PorterStemmer\")\n",
    "test_classifiers(X_train_porter_stem, y_train, X_test_porter_stem, y_test)"
   ]
  },
  {
   "cell_type": "code",
   "execution_count": null,
   "metadata": {},
   "outputs": [],
   "source": [
    "print(\"Using SnowballStemmer\")\n",
    "test_classifiers(X_train_snowball_stem, y_train, X_test_snowball_stem, y_test)"
   ]
  },
  {
   "cell_type": "code",
   "execution_count": null,
   "metadata": {},
   "outputs": [],
   "source": [
    "print(\"Using WordNetLemmatizer\")\n",
    "test_classifiers(X_train_lemmatize, y_train, X_test_lemmatize, y_test)"
   ]
  },
  {
   "cell_type": "code",
   "execution_count": 7,
   "metadata": {
    "collapsed": true
   },
   "outputs": [
    {
     "name": "stdout",
     "output_type": "stream",
     "text": [
      "Using LancasterStemmer\n",
      "OneVsOneClassifier, LinearSVC\n",
      "Accuracy score: 0.4172673394201506\n",
      "Hamming loss: 0.13046612205670352\n",
      "F1 score: 0.8174009240641745\n",
      "LRAP: 0.8055636090198817\n"
     ]
    }
   ],
   "source": [
    "print(\"Using LancasterStemmer\")\n",
    "test_classifiers(X_train_lancaster_stem, y_train, X_test_lancaster_stem, y_test)"
   ]
  }
 ],
 "metadata": {
  "kernelspec": {
   "display_name": "Python 3",
   "language": "python",
   "name": "python3"
  },
  "language_info": {
   "codemirror_mode": {
    "name": "ipython",
    "version": 3
   },
   "file_extension": ".py",
   "mimetype": "text/x-python",
   "name": "python",
   "nbconvert_exporter": "python",
   "pygments_lexer": "ipython3",
   "version": "3.6.9"
  }
 },
 "nbformat": 4,
 "nbformat_minor": 4
}
